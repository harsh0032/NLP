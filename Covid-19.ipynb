{
 "cells": [
  {
   "cell_type": "code",
   "execution_count": 6,
   "id": "aa2c5496",
   "metadata": {},
   "outputs": [],
   "source": [
    "import tensorflow as tf\n",
    "import numpy as np\n",
    "import os\n",
    "from matplotlib import pyplot as plt\n",
    "\n",
    "from keras.preprocessing import image\n",
    "from tensorflow.keras.preprocessing.image import ImageDataGenerator\n",
    "from keras.preprocessing.image import ImageDataGenerator"
   ]
  },
  {
   "cell_type": "code",
   "execution_count": 7,
   "id": "13a7f770",
   "metadata": {},
   "outputs": [
    {
     "data": {
      "text/plain": [
       "'2.5.0'"
      ]
     },
     "execution_count": 7,
     "metadata": {},
     "output_type": "execute_result"
    }
   ],
   "source": [
    "tf.__version__"
   ]
  },
  {
   "cell_type": "code",
   "execution_count": 3,
   "id": "bd4b1cc6",
   "metadata": {},
   "outputs": [
    {
     "name": "stdout",
     "output_type": "stream",
     "text": [
      "Found 251 images belonging to 3 classes.\n"
     ]
    }
   ],
   "source": [
    "train_datagen = ImageDataGenerator(rescale = 1./255,\n",
    "                                   shear_range = 0.2,\n",
    "                                   zoom_range = 0.2,\n",
    "                                   horizontal_flip = True)\n",
    "training_set = train_datagen.flow_from_directory(\"Covid19-dataset/train/\",\n",
    "                                                 target_size = (64, 64),\n",
    "                                                 batch_size = 32,\n",
    "                                                 class_mode = 'sparse')"
   ]
  },
  {
   "cell_type": "code",
   "execution_count": 4,
   "id": "b5c2d58b",
   "metadata": {},
   "outputs": [
    {
     "name": "stdout",
     "output_type": "stream",
     "text": [
      "Found 66 images belonging to 3 classes.\n"
     ]
    }
   ],
   "source": [
    "test_datagen = ImageDataGenerator(rescale = 1./255)\n",
    "test_set = test_datagen.flow_from_directory(\"Covid19-dataset/test\",\n",
    "                                            target_size = (64, 64),\n",
    "                                            batch_size = 32,\n",
    "                                            class_mode = 'sparse')"
   ]
  },
  {
   "cell_type": "code",
   "execution_count": 8,
   "id": "aa1c9901",
   "metadata": {},
   "outputs": [
    {
     "name": "stdout",
     "output_type": "stream",
     "text": [
      "Metal device set to: Apple M1\n"
     ]
    },
    {
     "name": "stderr",
     "output_type": "stream",
     "text": [
      "2022-08-06 18:41:53.008680: I tensorflow/core/common_runtime/pluggable_device/pluggable_device_factory.cc:305] Could not identify NUMA node of platform GPU ID 0, defaulting to 0. Your kernel may not have been built with NUMA support.\n",
      "2022-08-06 18:41:53.009062: I tensorflow/core/common_runtime/pluggable_device/pluggable_device_factory.cc:271] Created TensorFlow device (/job:localhost/replica:0/task:0/device:GPU:0 with 0 MB memory) -> physical PluggableDevice (device: 0, name: METAL, pci bus id: <undefined>)\n"
     ]
    }
   ],
   "source": [
    "cnn = tf.keras.models.Sequential()"
   ]
  },
  {
   "cell_type": "code",
   "execution_count": 9,
   "id": "26f805f3",
   "metadata": {},
   "outputs": [],
   "source": [
    "cnn.add(tf.keras.layers.Conv2D(filters=32, kernel_size=3, activation='relu', input_shape=[64, 64, 3]))"
   ]
  },
  {
   "cell_type": "code",
   "execution_count": 10,
   "id": "e145b420",
   "metadata": {},
   "outputs": [],
   "source": [
    "cnn.add(tf.keras.layers.MaxPool2D(pool_size=2, strides=2))"
   ]
  },
  {
   "cell_type": "code",
   "execution_count": 11,
   "id": "f3aa2545",
   "metadata": {},
   "outputs": [],
   "source": [
    "cnn.add(tf.keras.layers.Conv2D(filters=32, kernel_size=3, activation='relu'))\n",
    "cnn.add(tf.keras.layers.MaxPool2D(pool_size=2, strides=2))"
   ]
  },
  {
   "cell_type": "code",
   "execution_count": 12,
   "id": "52b66d7d",
   "metadata": {},
   "outputs": [],
   "source": [
    "cnn.add(tf.keras.layers.Flatten())"
   ]
  },
  {
   "cell_type": "code",
   "execution_count": 13,
   "id": "9a1e71e7",
   "metadata": {},
   "outputs": [],
   "source": [
    "cnn.add(tf.keras.layers.Dense(units=128, activation='relu'))"
   ]
  },
  {
   "cell_type": "code",
   "execution_count": 14,
   "id": "84a443cf",
   "metadata": {},
   "outputs": [],
   "source": [
    "cnn.add(tf.keras.layers.Dense(units=4, activation='softmax'))"
   ]
  },
  {
   "cell_type": "code",
   "execution_count": 15,
   "id": "c814fa1b",
   "metadata": {},
   "outputs": [],
   "source": [
    "cnn.compile(optimizer = 'adam', loss = 'sparse_categorical_crossentropy', metrics = ['accuracy'])"
   ]
  },
  {
   "cell_type": "code",
   "execution_count": 16,
   "id": "e713e2c6",
   "metadata": {},
   "outputs": [
    {
     "name": "stderr",
     "output_type": "stream",
     "text": [
      "2022-08-06 18:43:40.920788: I tensorflow/compiler/mlir/mlir_graph_optimization_pass.cc:176] None of the MLIR Optimization Passes are enabled (registered 2)\n",
      "2022-08-06 18:43:40.921185: W tensorflow/core/platform/profile_utils/cpu_utils.cc:128] Failed to get CPU frequency: 0 Hz\n",
      "2022-08-06 18:43:41.075334: I tensorflow/core/grappler/optimizers/custom_graph_optimizer_registry.cc:112] Plugin optimizer for device_type GPU is enabled.\n"
     ]
    },
    {
     "name": "stdout",
     "output_type": "stream",
     "text": [
      "Epoch 1/25\n",
      "8/8 [==============================] - ETA: 0s - loss: 1.1580 - accuracy: 0.4223"
     ]
    },
    {
     "name": "stderr",
     "output_type": "stream",
     "text": [
      "2022-08-06 18:43:49.101275: I tensorflow/core/grappler/optimizers/custom_graph_optimizer_registry.cc:112] Plugin optimizer for device_type GPU is enabled.\n"
     ]
    },
    {
     "name": "stdout",
     "output_type": "stream",
     "text": [
      "8/8 [==============================] - 9s 786ms/step - loss: 1.1580 - accuracy: 0.4223 - val_loss: 0.8327 - val_accuracy: 0.8182\n",
      "Epoch 2/25\n",
      "8/8 [==============================] - 6s 707ms/step - loss: 0.7758 - accuracy: 0.7689 - val_loss: 0.5853 - val_accuracy: 0.8030\n",
      "Epoch 3/25\n",
      "8/8 [==============================] - 6s 719ms/step - loss: 0.5781 - accuracy: 0.8088 - val_loss: 0.4715 - val_accuracy: 0.7727\n",
      "Epoch 4/25\n",
      "8/8 [==============================] - 6s 716ms/step - loss: 0.5069 - accuracy: 0.8048 - val_loss: 0.3584 - val_accuracy: 0.8030\n",
      "Epoch 5/25\n",
      "8/8 [==============================] - 6s 694ms/step - loss: 0.4053 - accuracy: 0.8406 - val_loss: 0.4589 - val_accuracy: 0.8333\n",
      "Epoch 6/25\n",
      "8/8 [==============================] - 6s 725ms/step - loss: 0.4102 - accuracy: 0.8367 - val_loss: 0.3372 - val_accuracy: 0.8788\n",
      "Epoch 7/25\n",
      "8/8 [==============================] - 6s 708ms/step - loss: 0.3035 - accuracy: 0.8805 - val_loss: 0.3051 - val_accuracy: 0.8939\n",
      "Epoch 8/25\n",
      "8/8 [==============================] - 6s 752ms/step - loss: 0.3467 - accuracy: 0.8725 - val_loss: 0.3078 - val_accuracy: 0.8788\n",
      "Epoch 9/25\n",
      "8/8 [==============================] - 6s 734ms/step - loss: 0.3112 - accuracy: 0.8884 - val_loss: 0.2736 - val_accuracy: 0.9091\n",
      "Epoch 10/25\n",
      "8/8 [==============================] - 6s 756ms/step - loss: 0.3043 - accuracy: 0.8725 - val_loss: 0.3829 - val_accuracy: 0.8485\n",
      "Epoch 11/25\n",
      "8/8 [==============================] - 6s 740ms/step - loss: 0.3273 - accuracy: 0.8645 - val_loss: 0.2904 - val_accuracy: 0.8788\n",
      "Epoch 12/25\n",
      "8/8 [==============================] - 6s 752ms/step - loss: 0.2988 - accuracy: 0.8845 - val_loss: 0.4096 - val_accuracy: 0.8182\n",
      "Epoch 13/25\n",
      "8/8 [==============================] - 6s 744ms/step - loss: 0.2947 - accuracy: 0.8805 - val_loss: 0.2703 - val_accuracy: 0.8636\n",
      "Epoch 14/25\n",
      "8/8 [==============================] - 6s 733ms/step - loss: 0.2517 - accuracy: 0.9044 - val_loss: 0.3215 - val_accuracy: 0.8030\n",
      "Epoch 15/25\n",
      "8/8 [==============================] - 6s 760ms/step - loss: 0.2647 - accuracy: 0.9004 - val_loss: 0.2193 - val_accuracy: 0.9091\n",
      "Epoch 16/25\n",
      "8/8 [==============================] - 6s 744ms/step - loss: 0.1928 - accuracy: 0.9283 - val_loss: 0.2271 - val_accuracy: 0.9242\n",
      "Epoch 17/25\n",
      "8/8 [==============================] - 6s 760ms/step - loss: 0.2296 - accuracy: 0.9044 - val_loss: 0.2555 - val_accuracy: 0.9091\n",
      "Epoch 18/25\n",
      "8/8 [==============================] - 6s 743ms/step - loss: 0.2310 - accuracy: 0.9163 - val_loss: 0.1849 - val_accuracy: 0.9394\n",
      "Epoch 19/25\n",
      "8/8 [==============================] - 6s 734ms/step - loss: 0.2168 - accuracy: 0.9124 - val_loss: 0.2114 - val_accuracy: 0.8939\n",
      "Epoch 20/25\n",
      "8/8 [==============================] - 6s 744ms/step - loss: 0.1926 - accuracy: 0.9402 - val_loss: 0.2264 - val_accuracy: 0.9242\n",
      "Epoch 21/25\n",
      "8/8 [==============================] - 6s 733ms/step - loss: 0.1649 - accuracy: 0.9442 - val_loss: 0.1864 - val_accuracy: 0.9242\n",
      "Epoch 22/25\n",
      "8/8 [==============================] - 6s 720ms/step - loss: 0.1498 - accuracy: 0.9562 - val_loss: 0.1933 - val_accuracy: 0.9242\n",
      "Epoch 23/25\n",
      "8/8 [==============================] - 6s 733ms/step - loss: 0.1277 - accuracy: 0.9681 - val_loss: 0.2554 - val_accuracy: 0.8939\n",
      "Epoch 24/25\n",
      "8/8 [==============================] - 6s 717ms/step - loss: 0.1920 - accuracy: 0.9283 - val_loss: 0.3580 - val_accuracy: 0.8939\n",
      "Epoch 25/25\n",
      "8/8 [==============================] - 6s 735ms/step - loss: 0.1664 - accuracy: 0.9363 - val_loss: 0.2498 - val_accuracy: 0.9242\n"
     ]
    },
    {
     "data": {
      "text/plain": [
       "<tensorflow.python.keras.callbacks.History at 0x15e0147c0>"
      ]
     },
     "execution_count": 16,
     "metadata": {},
     "output_type": "execute_result"
    }
   ],
   "source": [
    "cnn.fit(x = training_set, validation_data = test_set, epochs = 25)"
   ]
  },
  {
   "cell_type": "code",
   "execution_count": 24,
   "id": "9b3bb6c5",
   "metadata": {},
   "outputs": [
    {
     "data": {
      "image/png": "[encoded data removed]",
      "text/plain": [
       "<PIL.Image.Image image mode=RGB size=64x64>"
      ]
     },
     "execution_count": 24,
     "metadata": {},
     "output_type": "execute_result"
    }
   ],
   "source": [
    "from tensorflow.keras.preprocessing import image\n",
    "test_image = image.load_img(\"Covid19-dataset/test/Normal/0109.jpeg\", target_size = (64, 64))\n",
    "test_image\n",
    "\n",
    "\n",
    "\n"
   ]
  },
  {
   "cell_type": "code",
   "execution_count": 28,
   "id": "33ae1a2b",
   "metadata": {},
   "outputs": [
    {
     "name": "stdout",
     "output_type": "stream",
     "text": [
      "1\n"
     ]
    }
   ],
   "source": [
    "import numpy as np\n",
    "from tensorflow.keras.preprocessing import image\n",
    "\n",
    "test_image = image.load_img(\"Covid19-dataset/test/Normal/0117.jpeg\" , target_size = (64, 64))\n",
    "\n",
    "\n",
    "test_image = image.img_to_array(test_image)\n",
    "test_image = np.expand_dims(test_image,axis = 0)\n",
    "\n",
    "\n",
    "result = cnn.predict(test_image)\n",
    "\n",
    "result=result.astype(int)\n",
    "Y=training_set.class_indices\n",
    "j=0\n",
    "i = 0\n",
    "while i < 3:\n",
    "    \n",
    "    if result[0][i] == 1:\n",
    "        break\n",
    "    i=i+1\n",
    "print(i)\n",
    "j=i\n",
    "if j == 0:\n",
    " prediction = 'covid'\n",
    "    \n",
    "elif j == 1:\n",
    " prediction = 'normal'\n",
    "elif j == 2:\n",
    " prediction = 'viral'\n"
   ]
  },
  {
   "cell_type": "code",
   "execution_count": 23,
   "id": "79a32ccb",
   "metadata": {},
   "outputs": [
    {
     "name": "stdout",
     "output_type": "stream",
     "text": [
      "2\n"
     ]
    }
   ],
   "source": [
    "import numpy as np\n",
    "from tensorflow.keras.preprocessing import image\n",
    "\n",
    "test_image = image.load_img(\"Covid19-dataset/test/Viral Pneumonia/0102.jpeg\" , target_size = (64, 64))\n",
    "\n",
    "\n",
    "test_image = image.img_to_array(test_image)\n",
    "test_image = np.expand_dims(test_image,axis = 0)\n",
    "\n",
    "\n",
    "result = cnn.predict(test_image)\n",
    "\n",
    "result=result.astype(int)\n",
    "Y=training_set.class_indices\n",
    "j=0\n",
    "i = 0\n",
    "while i < 3:\n",
    "    \n",
    "    if result[0][i] == 1:\n",
    "        break\n",
    "    i=i+1\n",
    "print(i)\n",
    "j=i\n",
    "if j == 0:\n",
    " prediction = 'covid'\n",
    "    \n",
    "elif j == 1:\n",
    " prediction = 'normal'\n",
    "elif j == 2:\n",
    " prediction = 'viral'\n"
   ]
  },
  {
   "cell_type": "code",
   "execution_count": null,
   "id": "f8dc2732",
   "metadata": {},
   "outputs": [],
   "source": []
  }
 ],
 "metadata": {
  "kernelspec": {
   "display_name": "Python 3.9 (tensorflow)",
   "language": "python",
   "name": "tensorflow"
  },
  "language_info": {
   "codemirror_mode": {
    "name": "ipython",
    "version": 3
   },
   "file_extension": ".py",
   "mimetype": "text/x-python",
   "name": "python",
   "nbconvert_exporter": "python",
   "pygments_lexer": "ipython3",
   "version": "3.9.12"
  }
 },
 "nbformat": 4,
 "nbformat_minor": 5
}
