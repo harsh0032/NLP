{
 "cells": [
  {
   "cell_type": "code",
   "execution_count": 1,
   "id": "03ad4dbb",
   "metadata": {},
   "outputs": [],
   "source": [
    "import pandas as pd\n",
    "import re"
   ]
  },
  {
   "cell_type": "code",
   "execution_count": 34,
   "id": "695117a3",
   "metadata": {},
   "outputs": [],
   "source": [
    "food = pd.read_csv(\"Food App.csv\")"
   ]
  },
  {
   "cell_type": "code",
   "execution_count": 35,
   "id": "99a37116",
   "metadata": {},
   "outputs": [
    {
     "data": {
      "text/html": [
       "<div>\n",
       "<style scoped>\n",
       "    .dataframe tbody tr th:only-of-type {\n",
       "        vertical-align: middle;\n",
       "    }\n",
       "\n",
       "    .dataframe tbody tr th {\n",
       "        vertical-align: top;\n",
       "    }\n",
       "\n",
       "    .dataframe thead th {\n",
       "        text-align: right;\n",
       "    }\n",
       "</style>\n",
       "<table border=\"1\" class=\"dataframe\">\n",
       "  <thead>\n",
       "    <tr style=\"text-align: right;\">\n",
       "      <th></th>\n",
       "      <th>reviewId</th>\n",
       "      <th>userName</th>\n",
       "      <th>userImage</th>\n",
       "      <th>content</th>\n",
       "      <th>score</th>\n",
       "      <th>thumbsUpCount</th>\n",
       "      <th>reviewCreatedVersion</th>\n",
       "      <th>at</th>\n",
       "      <th>replyContent</th>\n",
       "      <th>repliedAt</th>\n",
       "      <th>sortOrder</th>\n",
       "      <th>appId</th>\n",
       "    </tr>\n",
       "  </thead>\n",
       "  <tbody>\n",
       "    <tr>\n",
       "      <th>0</th>\n",
       "      <td>fa01ee67-c3d0-4ec1-b705-a995d1924e15</td>\n",
       "      <td>karthik balaji</td>\n",
       "      <td>https://play-lh.googleusercontent.com/a-/AFdZu...</td>\n",
       "      <td>Zomato App placed same order twice at the exac...</td>\n",
       "      <td>1</td>\n",
       "      <td>0</td>\n",
       "      <td>16.7.0</td>\n",
       "      <td>2022-09-04 22:03:05</td>\n",
       "      <td>NaN</td>\n",
       "      <td>NaN</td>\n",
       "      <td>newest</td>\n",
       "      <td>com.application.zomato</td>\n",
       "    </tr>\n",
       "    <tr>\n",
       "      <th>1</th>\n",
       "      <td>a57a3b84-438c-478f-8de3-775ea4a69b90</td>\n",
       "      <td>Mahi Pandey</td>\n",
       "      <td>https://play-lh.googleusercontent.com/a/AItbvm...</td>\n",
       "      <td>Worst food delivery app of all time, they just...</td>\n",
       "      <td>1</td>\n",
       "      <td>0</td>\n",
       "      <td>16.0.9</td>\n",
       "      <td>2022-09-04 22:02:06</td>\n",
       "      <td>NaN</td>\n",
       "      <td>NaN</td>\n",
       "      <td>newest</td>\n",
       "      <td>com.application.zomato</td>\n",
       "    </tr>\n",
       "    <tr>\n",
       "      <th>2</th>\n",
       "      <td>a600b8bc-18a0-4f5c-acee-75cfde92b483</td>\n",
       "      <td>Neha Kapoor</td>\n",
       "      <td>https://play-lh.googleusercontent.com/a-/AFdZu...</td>\n",
       "      <td>Pathetic customer care executive. Rude attitud...</td>\n",
       "      <td>1</td>\n",
       "      <td>0</td>\n",
       "      <td>16.7.0</td>\n",
       "      <td>2022-09-04 22:00:01</td>\n",
       "      <td>NaN</td>\n",
       "      <td>NaN</td>\n",
       "      <td>newest</td>\n",
       "      <td>com.application.zomato</td>\n",
       "    </tr>\n",
       "    <tr>\n",
       "      <th>3</th>\n",
       "      <td>4852ffc2-9a9c-47fc-a3fe-7613bde8af94</td>\n",
       "      <td>kishore chowdary maddukuri</td>\n",
       "      <td>https://play-lh.googleusercontent.com/a-/AFdZu...</td>\n",
       "      <td>I am ordered mutton received chicken and rice ...</td>\n",
       "      <td>1</td>\n",
       "      <td>0</td>\n",
       "      <td>16.7.0</td>\n",
       "      <td>2022-09-04 21:59:47</td>\n",
       "      <td>NaN</td>\n",
       "      <td>NaN</td>\n",
       "      <td>newest</td>\n",
       "      <td>com.application.zomato</td>\n",
       "    </tr>\n",
       "    <tr>\n",
       "      <th>4</th>\n",
       "      <td>26ffdd3f-e258-4ea9-8eb0-024596b3eb86</td>\n",
       "      <td>Mohit Chauhan</td>\n",
       "      <td>https://play-lh.googleusercontent.com/a-/AFdZu...</td>\n",
       "      <td>I ordered from Zomato, with a scheme of get yo...</td>\n",
       "      <td>1</td>\n",
       "      <td>0</td>\n",
       "      <td>16.7.0</td>\n",
       "      <td>2022-09-04 21:57:28</td>\n",
       "      <td>NaN</td>\n",
       "      <td>NaN</td>\n",
       "      <td>newest</td>\n",
       "      <td>com.application.zomato</td>\n",
       "    </tr>\n",
       "  </tbody>\n",
       "</table>\n",
       "</div>"
      ],
      "text/plain": [
       "                               reviewId                    userName  \\\n",
       "0  fa01ee67-c3d0-4ec1-b705-a995d1924e15              karthik balaji   \n",
       "1  a57a3b84-438c-478f-8de3-775ea4a69b90                 Mahi Pandey   \n",
       "2  a600b8bc-18a0-4f5c-acee-75cfde92b483                 Neha Kapoor   \n",
       "3  4852ffc2-9a9c-47fc-a3fe-7613bde8af94  kishore chowdary maddukuri   \n",
       "4  26ffdd3f-e258-4ea9-8eb0-024596b3eb86               Mohit Chauhan   \n",
       "\n",
       "                                           userImage  \\\n",
       "0  https://play-lh.googleusercontent.com/a-/AFdZu...   \n",
       "1  https://play-lh.googleusercontent.com/a/AItbvm...   \n",
       "2  https://play-lh.googleusercontent.com/a-/AFdZu...   \n",
       "3  https://play-lh.googleusercontent.com/a-/AFdZu...   \n",
       "4  https://play-lh.googleusercontent.com/a-/AFdZu...   \n",
       "\n",
       "                                             content  score  thumbsUpCount  \\\n",
       "0  Zomato App placed same order twice at the exac...      1              0   \n",
       "1  Worst food delivery app of all time, they just...      1              0   \n",
       "2  Pathetic customer care executive. Rude attitud...      1              0   \n",
       "3  I am ordered mutton received chicken and rice ...      1              0   \n",
       "4  I ordered from Zomato, with a scheme of get yo...      1              0   \n",
       "\n",
       "  reviewCreatedVersion                   at replyContent repliedAt sortOrder  \\\n",
       "0               16.7.0  2022-09-04 22:03:05          NaN       NaN    newest   \n",
       "1               16.0.9  2022-09-04 22:02:06          NaN       NaN    newest   \n",
       "2               16.7.0  2022-09-04 22:00:01          NaN       NaN    newest   \n",
       "3               16.7.0  2022-09-04 21:59:47          NaN       NaN    newest   \n",
       "4               16.7.0  2022-09-04 21:57:28          NaN       NaN    newest   \n",
       "\n",
       "                    appId  \n",
       "0  com.application.zomato  \n",
       "1  com.application.zomato  \n",
       "2  com.application.zomato  \n",
       "3  com.application.zomato  \n",
       "4  com.application.zomato  "
      ]
     },
     "execution_count": 35,
     "metadata": {},
     "output_type": "execute_result"
    }
   ],
   "source": [
    "food.head()"
   ]
  },
  {
   "cell_type": "code",
   "execution_count": 36,
   "id": "1de8f1a2",
   "metadata": {},
   "outputs": [],
   "source": [
    "df = meat['replyContent']"
   ]
  },
  {
   "cell_type": "code",
   "execution_count": 37,
   "id": "da5a5030",
   "metadata": {},
   "outputs": [
    {
     "data": {
      "text/plain": [
       "0    Hi Sharik, this is not the experience we wante...\n",
       "1    Hi Mayank, this is unusual. Please write to us...\n",
       "2    Hi Manish, In the rare case that you have paid...\n",
       "3    Hi Zoya, please brief us about your concern at...\n",
       "4    Hi Subir, we are always looking at ways to mak...\n",
       "Name: replyContent, dtype: object"
      ]
     },
     "execution_count": 37,
     "metadata": {},
     "output_type": "execute_result"
    }
   ],
   "source": [
    "df.head()"
   ]
  },
  {
   "cell_type": "code",
   "execution_count": 38,
   "id": "adbd8b52",
   "metadata": {},
   "outputs": [],
   "source": [
    "a=df.to_string(header=False,index=False)"
   ]
  },
  {
   "cell_type": "code",
   "execution_count": 39,
   "id": "14148c87",
   "metadata": {},
   "outputs": [],
   "source": [
    "cleaned_review = re.sub(re.compile('<.*?>'), '', a) #removing HTML tags\n",
    "cleaned_review = re.sub('[^A-Za-z0-9]+', ' ', cleaned_review) #taking only words\n"
   ]
  },
  {
   "cell_type": "code",
   "execution_count": 40,
   "id": "bd32db05",
   "metadata": {},
   "outputs": [],
   "source": [
    "cleaned_review = cleaned_review.lower()"
   ]
  },
  {
   "cell_type": "code",
   "execution_count": 41,
   "id": "db32c700",
   "metadata": {},
   "outputs": [
    {
     "name": "stderr",
     "output_type": "stream",
     "text": [
      "[nltk_data] Downloading package punkt to\n",
      "[nltk_data]     /Users/harshchauhan/nltk_data...\n",
      "[nltk_data]   Package punkt is already up-to-date!\n"
     ]
    }
   ],
   "source": [
    "import nltk\n",
    "nltk.download('punkt')\n",
    "\n",
    "from nltk.tokenize import word_tokenize\n",
    "\n",
    "tokens = nltk.word_tokenize(cleaned_review)\n"
   ]
  },
  {
   "cell_type": "code",
   "execution_count": 42,
   "id": "bedb7d1b",
   "metadata": {},
   "outputs": [
    {
     "name": "stderr",
     "output_type": "stream",
     "text": [
      "[nltk_data] Downloading package stopwords to\n",
      "[nltk_data]     /Users/harshchauhan/nltk_data...\n",
      "[nltk_data]   Package stopwords is already up-to-date!\n"
     ]
    }
   ],
   "source": [
    "nltk.download('stopwords')\n",
    "from nltk.corpus import stopwords\n",
    "\n",
    "stop_words = stopwords.words('english')\n",
    "\n",
    "filtered_review = [word for word in tokens if word not in stop_words] # removing stop words"
   ]
  },
  {
   "cell_type": "code",
   "execution_count": 43,
   "id": "99a96777",
   "metadata": {},
   "outputs": [],
   "source": [
    "# Stemming\n",
    "\n",
    "from nltk.stem import PorterStemmer\n",
    "\n",
    "stemmer = PorterStemmer()\n",
    "\n",
    "stemmed_review = [stemmer.stem(word) for word in filtered_review]"
   ]
  },
  {
   "cell_type": "code",
   "execution_count": 44,
   "id": "3d0bb8a0",
   "metadata": {},
   "outputs": [
    {
     "name": "stderr",
     "output_type": "stream",
     "text": [
      "[nltk_data] Downloading package wordnet to\n",
      "[nltk_data]     /Users/harshchauhan/nltk_data...\n",
      "[nltk_data]   Package wordnet is already up-to-date!\n",
      "[nltk_data] Downloading package omw-1.4 to\n",
      "[nltk_data]     /Users/harshchauhan/nltk_data...\n",
      "[nltk_data]   Package omw-1.4 is already up-to-date!\n"
     ]
    }
   ],
   "source": [
    "# Lemmatization\n",
    "import nltk\n",
    "nltk.download('wordnet')\n",
    "nltk.download('omw-1.4')\n",
    "from nltk.stem import WordNetLemmatizer\n",
    "from nltk.stem import WordNetLemmatizer\n",
    "\n",
    "lemmatizer = WordNetLemmatizer()\n",
    "\n",
    "lemm_review = [lemmatizer.lemmatize(word) for word in filtered_review]"
   ]
  },
  {
   "cell_type": "code",
   "execution_count": null,
   "id": "e2cb349f",
   "metadata": {},
   "outputs": [],
   "source": []
  },
  {
   "cell_type": "code",
   "execution_count": null,
   "id": "7bbdb5fe",
   "metadata": {},
   "outputs": [],
   "source": []
  }
 ],
 "metadata": {
  "kernelspec": {
   "display_name": "Python 3.9 (tensorflow)",
   "language": "python",
   "name": "tensorflow"
  },
  "language_info": {
   "codemirror_mode": {
    "name": "ipython",
    "version": 3
   },
   "file_extension": ".py",
   "mimetype": "text/x-python",
   "name": "python",
   "nbconvert_exporter": "python",
   "pygments_lexer": "ipython3",
   "version": "3.9.12"
  }
 },
 "nbformat": 4,
 "nbformat_minor": 5
}
