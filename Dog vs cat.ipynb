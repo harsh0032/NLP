{
 "cells": [
  {
   "cell_type": "code",
   "execution_count": null,
   "id": "b574cb46",
   "metadata": {},
   "outputs": [],
   "source": [
    "import keras\n",
    "import tensorflow as tf\n",
    "from keras.preprocessing.image import ImageDataGenerator"
   ]
  },
  {
   "cell_type": "code",
   "execution_count": 1,
   "id": "dfad6287",
   "metadata": {},
   "outputs": [
    {
     "name": "stdout",
     "output_type": "stream",
     "text": [
      "Collecting package metadata (current_repodata.json): done\n",
      "Solving environment: failed with initial frozen solve. Retrying with flexible solve.\n",
      "Solving environment: failed with repodata from current_repodata.json, will retry with next repodata source.\n",
      "Collecting package metadata (repodata.json): done\n",
      "Solving environment: failed with initial frozen solve. Retrying with flexible solve.\n",
      "Solving environment: | \n",
      "Found conflicts! Looking for incompatible packages.\n",
      "This can take several minutes.  Press CTRL-C to abort.\n",
      "                                                                               failed\n",
      "\n",
      "UnsatisfiableError: The following specifications were found\n",
      "to be incompatible with the existing python installation in your environment:\n",
      "\n",
      "Specifications:\n",
      "\n",
      "  - tensorflow -> python[version='2.7.*|3.7.*|3.6.*|3.5.*']\n",
      "\n",
      "Your python: python=3.8\n",
      "\n",
      "If python is on the left-most side of the chain, that's the version you've asked for.\n",
      "When python appears to the right, that indicates that the thing on the left is somehow\n",
      "not available for the python version you are constrained to. Note that conda will not\n",
      "change your python version to a different minor version unless you explicitly specify\n",
      "that.\n",
      "\n",
      "\n",
      "\n",
      "\n",
      "Note: you may need to restart the kernel to use updated packages.\n"
     ]
    }
   ],
   "source": [
    "conda install tensorflow"
   ]
  },
  {
   "cell_type": "code",
   "execution_count": null,
   "id": "3083f06f",
   "metadata": {},
   "outputs": [],
   "source": [
    "import keras\n",
    "import tensorflow as tf\n",
    "from keras.preprocessing.image import ImageDataGenerator"
   ]
  },
  {
   "cell_type": "code",
   "execution_count": 4,
   "id": "6ff3073e",
   "metadata": {},
   "outputs": [
    {
     "data": {
      "text/plain": [
       "'2.9.1'"
      ]
     },
     "execution_count": 4,
     "metadata": {},
     "output_type": "execute_result"
    }
   ],
   "source": [
    "tf.__version__"
   ]
  },
  {
   "cell_type": "code",
   "execution_count": 6,
   "id": "3f2cfc56",
   "metadata": {},
   "outputs": [
    {
     "name": "stdout",
     "output_type": "stream",
     "text": [
      "Found 10002 images belonging to 3 classes.\n"
     ]
    }
   ],
   "source": [
    "train_datagen = ImageDataGenerator(rescale = 1./255,\n",
    "                                   shear_range = 0.2,\n",
    "                                   zoom_range = 0.2,\n",
    "                                   horizontal_flip = True)\n",
    "training_set = train_datagen.flow_from_directory('C:/Users/ubuntu/Downloads/Dataset',\n",
    "                                                 target_size = (64, 64),\n",
    "                                                 batch_size = 32,\n",
    "                                                 class_mode = 'binary')"
   ]
  },
  {
   "cell_type": "code",
   "execution_count": 7,
   "id": "1ee051ae",
   "metadata": {},
   "outputs": [
    {
     "name": "stdout",
     "output_type": "stream",
     "text": [
      "Found 2000 images belonging to 2 classes.\n"
     ]
    }
   ],
   "source": [
    "test_datagen = ImageDataGenerator(rescale = 1./255)\n",
    "test_set = test_datagen.flow_from_directory('C:/Users/ubuntu/Downloads/Dataset/test_set',\n",
    "                                            target_size = (64, 64),\n",
    "                                            batch_size = 32,\n",
    "                                            class_mode = 'binary')"
   ]
  },
  {
   "cell_type": "code",
   "execution_count": 8,
   "id": "fcfcf1b7",
   "metadata": {},
   "outputs": [],
   "source": [
    "cnn = tf.keras.models.Sequential()\n"
   ]
  },
  {
   "cell_type": "code",
   "execution_count": 9,
   "id": "5b17d04d",
   "metadata": {},
   "outputs": [],
   "source": [
    "cnn.add(tf.keras.layers.Conv2D(filters=32, kernel_size=3, activation='relu', input_shape=[64, 64, 3]))\n"
   ]
  },
  {
   "cell_type": "code",
   "execution_count": 10,
   "id": "7064bc9a",
   "metadata": {},
   "outputs": [],
   "source": [
    "cnn.add(tf.keras.layers.MaxPool2D(pool_size=2, strides=2))\n"
   ]
  },
  {
   "cell_type": "code",
   "execution_count": 11,
   "id": "73e90de5",
   "metadata": {},
   "outputs": [],
   "source": [
    "cnn.add(tf.keras.layers.Conv2D(filters=32, kernel_size=3, activation='relu'))\n",
    "cnn.add(tf.keras.layers.MaxPool2D(pool_size=2, strides=2))\n"
   ]
  },
  {
   "cell_type": "code",
   "execution_count": 12,
   "id": "baf5d86e",
   "metadata": {},
   "outputs": [],
   "source": [
    "cnn.add(tf.keras.layers.Flatten())\n"
   ]
  },
  {
   "cell_type": "code",
   "execution_count": 13,
   "id": "c9a387f4",
   "metadata": {},
   "outputs": [],
   "source": [
    "cnn.add(tf.keras.layers.Dense(units=128, activation='relu'))\n"
   ]
  },
  {
   "cell_type": "code",
   "execution_count": 14,
   "id": "bf63df93",
   "metadata": {},
   "outputs": [],
   "source": [
    "cnn.add(tf.keras.layers.Dense(units=1, activation='sigmoid'))\n"
   ]
  },
  {
   "cell_type": "code",
   "execution_count": 15,
   "id": "fab2b4d7",
   "metadata": {},
   "outputs": [],
   "source": [
    "cnn.compile(optimizer = 'adam', loss = 'binary_crossentropy', metrics = ['accuracy'])\n"
   ]
  },
  {
   "cell_type": "code",
   "execution_count": 16,
   "id": "009ffe0c",
   "metadata": {},
   "outputs": [
    {
     "name": "stdout",
     "output_type": "stream",
     "text": [
      "Epoch 1/25\n",
      "313/313 [==============================] - 31s 98ms/step - loss: -44529508.0000 - accuracy: 0.2000 - val_loss: 158680448.0000 - val_accuracy: 0.5000\n",
      "Epoch 2/25\n",
      "313/313 [==============================] - 31s 98ms/step - loss: -1887430656.0000 - accuracy: 0.2000 - val_loss: 3150452224.0000 - val_accuracy: 0.5000\n",
      "Epoch 3/25\n",
      "313/313 [==============================] - 31s 100ms/step - loss: -13447474176.0000 - accuracy: 0.2000 - val_loss: 15967794176.0000 - val_accuracy: 0.5000\n",
      "Epoch 4/25\n",
      "313/313 [==============================] - 31s 99ms/step - loss: -47959318528.0000 - accuracy: 0.2000 - val_loss: 47739817984.0000 - val_accuracy: 0.5000\n",
      "Epoch 5/25\n",
      "313/313 [==============================] - 31s 99ms/step - loss: -121168576512.0000 - accuracy: 0.2000 - val_loss: 108637405184.0000 - val_accuracy: 0.5000\n",
      "Epoch 6/25\n",
      "313/313 [==============================] - 31s 99ms/step - loss: -249396084736.0000 - accuracy: 0.2000 - val_loss: 208751951872.0000 - val_accuracy: 0.5000\n",
      "Epoch 7/25\n",
      "313/313 [==============================] - 31s 99ms/step - loss: -447727927296.0000 - accuracy: 0.2000 - val_loss: 357220155392.0000 - val_accuracy: 0.5000\n",
      "Epoch 8/25\n",
      "313/313 [==============================] - 31s 99ms/step - loss: -732559310848.0000 - accuracy: 0.2000 - val_loss: 564185989120.0000 - val_accuracy: 0.5000\n",
      "Epoch 9/25\n",
      "313/313 [==============================] - 31s 100ms/step - loss: -1119107678208.0000 - accuracy: 0.2000 - val_loss: 838578274304.0000 - val_accuracy: 0.5000\n",
      "Epoch 10/25\n",
      "313/313 [==============================] - 31s 99ms/step - loss: -1619838631936.0000 - accuracy: 0.2000 - val_loss: 1189606064128.0000 - val_accuracy: 0.5000\n",
      "Epoch 11/25\n",
      "313/313 [==============================] - 31s 99ms/step - loss: -2253225197568.0000 - accuracy: 0.2000 - val_loss: 1626491060224.0000 - val_accuracy: 0.5000\n",
      "Epoch 12/25\n",
      "313/313 [==============================] - 31s 99ms/step - loss: -3032051351552.0000 - accuracy: 0.2000 - val_loss: 2158641283072.0000 - val_accuracy: 0.5000\n",
      "Epoch 13/25\n",
      "313/313 [==============================] - 31s 99ms/step - loss: -3971694460928.0000 - accuracy: 0.2000 - val_loss: 2796303155200.0000 - val_accuracy: 0.5000\n",
      "Epoch 14/25\n",
      "313/313 [==============================] - 31s 100ms/step - loss: -5081550290944.0000 - accuracy: 0.2000 - val_loss: 3545206358016.0000 - val_accuracy: 0.5000\n",
      "Epoch 15/25\n",
      "313/313 [==============================] - 31s 100ms/step - loss: -6388169834496.0000 - accuracy: 0.2000 - val_loss: 4417456177152.0000 - val_accuracy: 0.5000\n",
      "Epoch 16/25\n",
      "313/313 [==============================] - 31s 100ms/step - loss: -7897656328192.0000 - accuracy: 0.2000 - val_loss: 5420277563392.0000 - val_accuracy: 0.5000\n",
      "Epoch 17/25\n",
      "313/313 [==============================] - 31s 99ms/step - loss: -9616068968448.0000 - accuracy: 0.2000 - val_loss: 6563391602688.0000 - val_accuracy: 0.5000\n",
      "Epoch 18/25\n",
      "313/313 [==============================] - 31s 99ms/step - loss: -11588284186624.0000 - accuracy: 0.2000 - val_loss: 7861467873280.0000 - val_accuracy: 0.5000\n",
      "Epoch 19/25\n",
      "313/313 [==============================] - 31s 99ms/step - loss: -13802456219648.0000 - accuracy: 0.2000 - val_loss: 9319804305408.0000 - val_accuracy: 0.5000\n",
      "Epoch 20/25\n",
      "313/313 [==============================] - 31s 100ms/step - loss: -16280230821888.0000 - accuracy: 0.2000 - val_loss: 10946903801856.0000 - val_accuracy: 0.5000\n",
      "Epoch 21/25\n",
      "313/313 [==============================] - 31s 99ms/step - loss: -19060244873216.0000 - accuracy: 0.2000 - val_loss: 12762271973376.0000 - val_accuracy: 0.5000\n",
      "Epoch 22/25\n",
      "313/313 [==============================] - 31s 99ms/step - loss: -22106513342464.0000 - accuracy: 0.2000 - val_loss: 14766346076160.0000 - val_accuracy: 0.5000\n",
      "Epoch 23/25\n",
      "313/313 [==============================] - 31s 99ms/step - loss: -25509220057088.0000 - accuracy: 0.2000 - val_loss: 16973938294784.0000 - val_accuracy: 0.5000\n",
      "Epoch 24/25\n",
      "313/313 [==============================] - 31s 99ms/step - loss: -29233197875200.0000 - accuracy: 0.2000 - val_loss: 19395329916928.0000 - val_accuracy: 0.5000\n",
      "Epoch 25/25\n",
      "313/313 [==============================] - 32s 101ms/step - loss: -33301123301376.0000 - accuracy: 0.2000 - val_loss: 22038999728128.0000 - val_accuracy: 0.5000\n"
     ]
    },
    {
     "data": {
      "text/plain": [
       "<keras.callbacks.History at 0x1f33d799f70>"
      ]
     },
     "execution_count": 16,
     "metadata": {},
     "output_type": "execute_result"
    }
   ],
   "source": [
    "cnn.fit(x = training_set, validation_data = test_set, epochs = 25)\n"
   ]
  },
  {
   "cell_type": "code",
   "execution_count": 45,
   "id": "65d13c50",
   "metadata": {},
   "outputs": [
    {
     "name": "stdout",
     "output_type": "stream",
     "text": [
      "1/1 [==============================] - 0s 27ms/step\n"
     ]
    }
   ],
   "source": [
    "import numpy as np\n",
    "from keras.preprocessing import image\n",
    "test_image = keras.utils.load_img('C:/Users/ubuntu/Downloads/Dataset/single_prediction/cat_or_dog_1.jpg', target_size = (64, 64))\n",
    "test_image = keras.utils.img_to_array(test_image)\n",
    "test_image = np.expand_dims(test_image, axis = 0)\n",
    "result = cnn.predict(test_image)\n",
    "training_set.class_indices\n",
    "if result[0][0] == 1:\n",
    "  prediction = 'dog'\n",
    "else:\n",
    "  prediction = 'cat'"
   ]
  },
  {
   "cell_type": "code",
   "execution_count": 46,
   "id": "bc67c4de",
   "metadata": {},
   "outputs": [
    {
     "name": "stdout",
     "output_type": "stream",
     "text": [
      "dog\n"
     ]
    }
   ],
   "source": [
    "print(prediction)"
   ]
  }
 ],
 "metadata": {
  "kernelspec": {
   "display_name": "Python 3",
   "language": "python",
   "name": "python3"
  },
  "language_info": {
   "codemirror_mode": {
    "name": "ipython",
    "version": 3
   },
   "file_extension": ".py",
   "mimetype": "text/x-python",
   "name": "python",
   "nbconvert_exporter": "python",
   "pygments_lexer": "ipython3",
   "version": "3.8.8"
  }
 },
 "nbformat": 4,
 "nbformat_minor": 5
}
