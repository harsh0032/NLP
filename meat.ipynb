{
 "cells": [
  {
   "cell_type": "code",
   "execution_count": 1,
   "id": "e095e46f",
   "metadata": {},
   "outputs": [],
   "source": [
    "import pandas as pd\n",
    "import re"
   ]
  },
  {
   "cell_type": "code",
   "execution_count": 8,
   "id": "cbe526ff",
   "metadata": {},
   "outputs": [],
   "source": [
    "meat = pd.read_csv(\"Meat Delivery App.csv\")"
   ]
  },
  {
   "cell_type": "code",
   "execution_count": 9,
   "id": "426dcd4e",
   "metadata": {},
   "outputs": [
    {
     "data": {
      "text/html": [
       "<div>\n",
       "<style scoped>\n",
       "    .dataframe tbody tr th:only-of-type {\n",
       "        vertical-align: middle;\n",
       "    }\n",
       "\n",
       "    .dataframe tbody tr th {\n",
       "        vertical-align: top;\n",
       "    }\n",
       "\n",
       "    .dataframe thead th {\n",
       "        text-align: right;\n",
       "    }\n",
       "</style>\n",
       "<table border=\"1\" class=\"dataframe\">\n",
       "  <thead>\n",
       "    <tr style=\"text-align: right;\">\n",
       "      <th></th>\n",
       "      <th>reviewId</th>\n",
       "      <th>userName</th>\n",
       "      <th>userImage</th>\n",
       "      <th>content</th>\n",
       "      <th>score</th>\n",
       "      <th>thumbsUpCount</th>\n",
       "      <th>reviewCreatedVersion</th>\n",
       "      <th>at</th>\n",
       "      <th>replyContent</th>\n",
       "      <th>repliedAt</th>\n",
       "      <th>sortOrder</th>\n",
       "      <th>appId</th>\n",
       "    </tr>\n",
       "  </thead>\n",
       "  <tbody>\n",
       "    <tr>\n",
       "      <th>0</th>\n",
       "      <td>133a7855-d74d-4fe2-bdbb-394870113531</td>\n",
       "      <td>Subrat Samantray</td>\n",
       "      <td>https://play-lh.googleusercontent.com/a-/AFdZu...</td>\n",
       "      <td>I saw the reviews yesterday and orders chicken...</td>\n",
       "      <td>1</td>\n",
       "      <td>0</td>\n",
       "      <td>3.5.5</td>\n",
       "      <td>2022-09-03 11:45:07</td>\n",
       "      <td>Dear Subrat Samantray, We deeply regret the in...</td>\n",
       "      <td>2022-09-03 12:20:37</td>\n",
       "      <td>newest</td>\n",
       "      <td>com.fipola.android</td>\n",
       "    </tr>\n",
       "    <tr>\n",
       "      <th>1</th>\n",
       "      <td>4db98218-a0f1-4093-a373-a2dee51c8a8a</td>\n",
       "      <td>Raj C</td>\n",
       "      <td>https://play-lh.googleusercontent.com/a-/AFdZu...</td>\n",
       "      <td>Worst App. Order page is not giving the order ...</td>\n",
       "      <td>1</td>\n",
       "      <td>0</td>\n",
       "      <td>3.5.5</td>\n",
       "      <td>2022-08-30 12:44:56</td>\n",
       "      <td>Dear Raj C, We are genuinely sorry for the occ...</td>\n",
       "      <td>2022-09-01 14:08:23</td>\n",
       "      <td>newest</td>\n",
       "      <td>com.fipola.android</td>\n",
       "    </tr>\n",
       "    <tr>\n",
       "      <th>2</th>\n",
       "      <td>0d4100e3-4a78-4ddf-94b2-bf7b81e8a838</td>\n",
       "      <td>Harish Reddy</td>\n",
       "      <td>https://play-lh.googleusercontent.com/a-/AFdZu...</td>\n",
       "      <td>Worst order experience. Recieved way less quan...</td>\n",
       "      <td>1</td>\n",
       "      <td>0</td>\n",
       "      <td>3.5.5</td>\n",
       "      <td>2022-08-28 20:58:44</td>\n",
       "      <td>Dear Harish Reddy, We are genuinely sorry for ...</td>\n",
       "      <td>2022-08-29 13:34:42</td>\n",
       "      <td>newest</td>\n",
       "      <td>com.fipola.android</td>\n",
       "    </tr>\n",
       "    <tr>\n",
       "      <th>3</th>\n",
       "      <td>2008a69c-e880-4c72-ba59-d5e4daf0c37d</td>\n",
       "      <td>Ukesh Kumar</td>\n",
       "      <td>https://play-lh.googleusercontent.com/a/AItbvm...</td>\n",
       "      <td>Fish which I bought today was so sticky. Very ...</td>\n",
       "      <td>1</td>\n",
       "      <td>0</td>\n",
       "      <td>3.5.5</td>\n",
       "      <td>2022-08-28 13:00:12</td>\n",
       "      <td>Dear Ukesh Kumar, We are genuinely sorry for t...</td>\n",
       "      <td>2022-08-29 12:38:41</td>\n",
       "      <td>newest</td>\n",
       "      <td>com.fipola.android</td>\n",
       "    </tr>\n",
       "    <tr>\n",
       "      <th>4</th>\n",
       "      <td>a91eb638-3686-4274-b9e7-69dee1758941</td>\n",
       "      <td>Ns suresh</td>\n",
       "      <td>https://play-lh.googleusercontent.com/a-/AFdZu...</td>\n",
       "      <td>Poor app development Not possible to view cart...</td>\n",
       "      <td>1</td>\n",
       "      <td>0</td>\n",
       "      <td>NaN</td>\n",
       "      <td>2022-08-27 16:10:26</td>\n",
       "      <td>Dear Ns suresh, we usually don't face an error...</td>\n",
       "      <td>2022-08-29 12:23:33</td>\n",
       "      <td>newest</td>\n",
       "      <td>com.fipola.android</td>\n",
       "    </tr>\n",
       "  </tbody>\n",
       "</table>\n",
       "</div>"
      ],
      "text/plain": [
       "                               reviewId          userName  \\\n",
       "0  133a7855-d74d-4fe2-bdbb-394870113531  Subrat Samantray   \n",
       "1  4db98218-a0f1-4093-a373-a2dee51c8a8a             Raj C   \n",
       "2  0d4100e3-4a78-4ddf-94b2-bf7b81e8a838      Harish Reddy   \n",
       "3  2008a69c-e880-4c72-ba59-d5e4daf0c37d       Ukesh Kumar   \n",
       "4  a91eb638-3686-4274-b9e7-69dee1758941         Ns suresh   \n",
       "\n",
       "                                           userImage  \\\n",
       "0  https://play-lh.googleusercontent.com/a-/AFdZu...   \n",
       "1  https://play-lh.googleusercontent.com/a-/AFdZu...   \n",
       "2  https://play-lh.googleusercontent.com/a-/AFdZu...   \n",
       "3  https://play-lh.googleusercontent.com/a/AItbvm...   \n",
       "4  https://play-lh.googleusercontent.com/a-/AFdZu...   \n",
       "\n",
       "                                             content  score  thumbsUpCount  \\\n",
       "0  I saw the reviews yesterday and orders chicken...      1              0   \n",
       "1  Worst App. Order page is not giving the order ...      1              0   \n",
       "2  Worst order experience. Recieved way less quan...      1              0   \n",
       "3  Fish which I bought today was so sticky. Very ...      1              0   \n",
       "4  Poor app development Not possible to view cart...      1              0   \n",
       "\n",
       "  reviewCreatedVersion                   at  \\\n",
       "0                3.5.5  2022-09-03 11:45:07   \n",
       "1                3.5.5  2022-08-30 12:44:56   \n",
       "2                3.5.5  2022-08-28 20:58:44   \n",
       "3                3.5.5  2022-08-28 13:00:12   \n",
       "4                  NaN  2022-08-27 16:10:26   \n",
       "\n",
       "                                        replyContent            repliedAt  \\\n",
       "0  Dear Subrat Samantray, We deeply regret the in...  2022-09-03 12:20:37   \n",
       "1  Dear Raj C, We are genuinely sorry for the occ...  2022-09-01 14:08:23   \n",
       "2  Dear Harish Reddy, We are genuinely sorry for ...  2022-08-29 13:34:42   \n",
       "3  Dear Ukesh Kumar, We are genuinely sorry for t...  2022-08-29 12:38:41   \n",
       "4  Dear Ns suresh, we usually don't face an error...  2022-08-29 12:23:33   \n",
       "\n",
       "  sortOrder               appId  \n",
       "0    newest  com.fipola.android  \n",
       "1    newest  com.fipola.android  \n",
       "2    newest  com.fipola.android  \n",
       "3    newest  com.fipola.android  \n",
       "4    newest  com.fipola.android  "
      ]
     },
     "execution_count": 9,
     "metadata": {},
     "output_type": "execute_result"
    }
   ],
   "source": [
    "meat.head()"
   ]
  },
  {
   "cell_type": "code",
   "execution_count": 10,
   "id": "8f5eb84c",
   "metadata": {},
   "outputs": [],
   "source": [
    "df = meat['content']"
   ]
  },
  {
   "cell_type": "code",
   "execution_count": 11,
   "id": "364e66d6",
   "metadata": {},
   "outputs": [
    {
     "data": {
      "text/plain": [
       "0    I saw the reviews yesterday and orders chicken...\n",
       "1    Worst App. Order page is not giving the order ...\n",
       "2    Worst order experience. Recieved way less quan...\n",
       "3    Fish which I bought today was so sticky. Very ...\n",
       "4    Poor app development Not possible to view cart...\n",
       "Name: content, dtype: object"
      ]
     },
     "execution_count": 11,
     "metadata": {},
     "output_type": "execute_result"
    }
   ],
   "source": [
    "df.head()"
   ]
  },
  {
   "cell_type": "code",
   "execution_count": 12,
   "id": "3e8851f3",
   "metadata": {},
   "outputs": [],
   "source": [
    "a=df.to_string(header=False,index=False)"
   ]
  },
  {
   "cell_type": "code",
   "execution_count": 13,
   "id": "655c0d50",
   "metadata": {},
   "outputs": [],
   "source": [
    "cleaned_review = re.sub(re.compile('<.*?>'), '', a) #removing HTML tags\n",
    "cleaned_review = re.sub('[^A-Za-z0-9]+', ' ', cleaned_review) #taking only words\n"
   ]
  },
  {
   "cell_type": "code",
   "execution_count": 14,
   "id": "f813cb72",
   "metadata": {},
   "outputs": [],
   "source": [
    "cleaned_review = cleaned_review.lower()"
   ]
  },
  {
   "cell_type": "code",
   "execution_count": 15,
   "id": "7a954193",
   "metadata": {},
   "outputs": [
    {
     "name": "stderr",
     "output_type": "stream",
     "text": [
      "/Users/harshchauhan/miniforge3/envs/tensorflow/lib/python3.9/site-packages/scipy/__init__.py:146: UserWarning: A NumPy version >=1.16.5 and <1.23.0 is required for this version of SciPy (detected version 1.23.1\n",
      "  warnings.warn(f\"A NumPy version >={np_minversion} and <{np_maxversion}\"\n",
      "[nltk_data] Downloading package punkt to\n",
      "[nltk_data]     /Users/harshchauhan/nltk_data...\n",
      "[nltk_data]   Unzipping tokenizers/punkt.zip.\n"
     ]
    }
   ],
   "source": [
    "import nltk\n",
    "nltk.download('punkt')\n",
    "\n",
    "from nltk.tokenize import word_tokenize\n",
    "\n",
    "tokens = nltk.word_tokenize(cleaned_review)\n"
   ]
  },
  {
   "cell_type": "code",
   "execution_count": 16,
   "id": "74dad70c",
   "metadata": {},
   "outputs": [
    {
     "name": "stderr",
     "output_type": "stream",
     "text": [
      "[nltk_data] Downloading package stopwords to\n",
      "[nltk_data]     /Users/harshchauhan/nltk_data...\n",
      "[nltk_data]   Unzipping corpora/stopwords.zip.\n"
     ]
    }
   ],
   "source": [
    "nltk.download('stopwords')\n",
    "from nltk.corpus import stopwords\n",
    "\n",
    "stop_words = stopwords.words('english')\n",
    "\n",
    "filtered_review = [word for word in tokens if word not in stop_words] # removing stop words"
   ]
  },
  {
   "cell_type": "code",
   "execution_count": 17,
   "id": "2e439527",
   "metadata": {},
   "outputs": [],
   "source": [
    "# Stemming\n",
    "\n",
    "from nltk.stem import PorterStemmer\n",
    "\n",
    "stemmer = PorterStemmer()\n",
    "\n",
    "stemmed_review = [stemmer.stem(word) for word in filtered_review]"
   ]
  },
  {
   "cell_type": "code",
   "execution_count": 18,
   "id": "368c46f9",
   "metadata": {},
   "outputs": [
    {
     "name": "stderr",
     "output_type": "stream",
     "text": [
      "[nltk_data] Downloading package wordnet to\n",
      "[nltk_data]     /Users/harshchauhan/nltk_data...\n",
      "[nltk_data] Downloading package omw-1.4 to\n",
      "[nltk_data]     /Users/harshchauhan/nltk_data...\n"
     ]
    }
   ],
   "source": [
    "# Lemmatization\n",
    "import nltk\n",
    "nltk.download('wordnet')\n",
    "nltk.download('omw-1.4')\n",
    "from nltk.stem import WordNetLemmatizer\n",
    "from nltk.stem import WordNetLemmatizer\n",
    "\n",
    "lemmatizer = WordNetLemmatizer()\n",
    "\n",
    "lemm_review = [lemmatizer.lemmatize(word) for word in filtered_review]"
   ]
  },
  {
   "cell_type": "code",
   "execution_count": null,
   "id": "c9f53b08",
   "metadata": {},
   "outputs": [],
   "source": []
  }
 ],
 "metadata": {
  "kernelspec": {
   "display_name": "Python 3.9 (tensorflow)",
   "language": "python",
   "name": "tensorflow"
  },
  "language_info": {
   "codemirror_mode": {
    "name": "ipython",
    "version": 3
   },
   "file_extension": ".py",
   "mimetype": "text/x-python",
   "name": "python",
   "nbconvert_exporter": "python",
   "pygments_lexer": "ipython3",
   "version": "3.9.12"
  }
 },
 "nbformat": 4,
 "nbformat_minor": 5
}
